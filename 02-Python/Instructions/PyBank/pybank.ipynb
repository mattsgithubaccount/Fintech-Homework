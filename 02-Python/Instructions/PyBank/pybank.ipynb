{
 "cells": [
  {
   "cell_type": "code",
   "execution_count": 1,
   "id": "8c0d3ae4-ac08-4321-97e8-29eb3dc9fba5",
   "metadata": {},
   "outputs": [],
   "source": [
    "# imports\n",
    "import csv\n",
    "from pathlib import Path"
   ]
  },
  {
   "cell_type": "code",
   "execution_count": 2,
   "id": "fb22d28a-f31e-40c4-be45-35fd6d673e71",
   "metadata": {},
   "outputs": [],
   "source": [
    "# note - create path\n",
    "file_to_load = Path(\"Resources/budget_data.csv\")\n",
    "file_to_output = Path(\"Resources/analysis.txt\")\n"
   ]
  },
  {
   "cell_type": "code",
   "execution_count": 3,
   "id": "09927c0f-d1dc-4166-bc7f-769802fcde3a",
   "metadata": {},
   "outputs": [],
   "source": [
    "# declare variables\n",
    "\n",
    "total_months = 0\n",
    "month_of_change = []\n",
    "net_change_list = []\n",
    "greatest_increase = [\"\", 0]\n",
    "greatest_decrease = [\"\", 9999999]\n",
    "total_net = 0"
   ]
  },
  {
   "cell_type": "code",
   "execution_count": 6,
   "id": "f6d638e9-7843-4f82-9a81-f9698916044f",
   "metadata": {},
   "outputs": [],
   "source": [
    "with open(file_to_load) as financial_data:\n",
    "    reader = csv.reader(financial_data)\n",
    "    header = next(reader)\n",
    "    \n",
    "    first_row = next(reader)\n",
    "    total_months = 1\n",
    "    total_net = int(first_row[1])\n",
    "    previous_net = int(first_row[1])\n",
    "    \n",
    "    ## create a for loop\n",
    "    ## track net change\n",
    "    ## calculate greatest increase/decrease using conditional statement"
   ]
  },
  {
   "cell_type": "code",
   "execution_count": null,
   "id": "0ea95046-07ae-4221-972f-efa8a9349c8f",
   "metadata": {},
   "outputs": [],
   "source": [
    "# calculate average net change"
   ]
  }
 ],
 "metadata": {
  "kernelspec": {
   "display_name": "Python 3 (ipykernel)",
   "language": "python",
   "name": "python3"
  },
  "language_info": {
   "codemirror_mode": {
    "name": "ipython",
    "version": 3
   },
   "file_extension": ".py",
   "mimetype": "text/x-python",
   "name": "python",
   "nbconvert_exporter": "python",
   "pygments_lexer": "ipython3",
   "version": "3.9.7"
  }
 },
 "nbformat": 4,
 "nbformat_minor": 5
}
